{
  "nbformat": 4,
  "nbformat_minor": 0,
  "metadata": {
    "colab": {
      "provenance": []
    },
    "kernelspec": {
      "name": "python3",
      "display_name": "Python 3"
    },
    "language_info": {
      "name": "python"
    }
  },
  "cells": [
    {
      "cell_type": "markdown",
      "source": [
        "Importe o pacote numpy com o nome np.\n"
      ],
      "metadata": {
        "id": "LqoTJYuUQH20"
      }
    },
    {
      "cell_type": "code",
      "execution_count": null,
      "metadata": {
        "id": "2v5Ct1qhP5TS"
      },
      "outputs": [],
      "source": [
        "import numpy as np\n",
        "from io import StringIO\n",
        "\n",
        "data = u\"1, 2, 3\\n4, 5, 6\"\n",
        "vetor = np.genfromtxt(StringIO(data), delimiter=\",\") # Converte dados para vetor\n",
        "np.savetxt(\"nome_arquivo.txt\", vetor, delimiter=\" \")"
      ]
    },
    {
      "cell_type": "markdown",
      "source": [
        "Crie o seguinte vetor unidimensional (1D):\n"
      ],
      "metadata": {
        "id": "Xnm9IaACQy1i"
      }
    },
    {
      "cell_type": "code",
      "source": [
        "import numpy as np "
      ],
      "metadata": {
        "id": "7kxjj_JaQzYE"
      },
      "execution_count": null,
      "outputs": []
    },
    {
      "cell_type": "code",
      "source": [
        "!pip install numpy"
      ],
      "metadata": {
        "colab": {
          "base_uri": "https://localhost:8080/"
        },
        "id": "cXfxHINuyqxz",
        "outputId": "2fbaa87c-4a34-4c27-bb5f-b7cf13993e81"
      },
      "execution_count": null,
      "outputs": [
        {
          "output_type": "stream",
          "name": "stdout",
          "text": [
            "Looking in indexes: https://pypi.org/simple, https://us-python.pkg.dev/colab-wheels/public/simple/\n",
            "Requirement already satisfied: numpy in /usr/local/lib/python3.7/dist-packages (1.21.6)\n"
          ]
        }
      ]
    },
    {
      "cell_type": "markdown",
      "source": [
        "Crie o seguinte vetor unidimensional (1D):\n",
        "0\t1\t2\t3\t4\t5\t6\t7\t8\t9\n",
        "\n",
        "\n"
      ],
      "metadata": {
        "id": "w9yn7J2s0VWO"
      }
    },
    {
      "cell_type": "code",
      "source": [
        "vet = np.array(range(10))\n",
        "vet\n"
      ],
      "metadata": {
        "colab": {
          "base_uri": "https://localhost:8080/"
        },
        "id": "HWywV_Dn0XWN",
        "outputId": "a3fe7676-bbfd-4f09-ca9b-0e6e7ebf0843"
      },
      "execution_count": null,
      "outputs": [
        {
          "output_type": "execute_result",
          "data": {
            "text/plain": [
              "array([0, 1, 2, 3, 4, 5, 6, 7, 8, 9])"
            ]
          },
          "metadata": {},
          "execution_count": 85
        }
      ]
    },
    {
      "cell_type": "markdown",
      "source": [
        "Qual é o comprimento len do vetor?\n"
      ],
      "metadata": {
        "id": "rqTOaQao0hcq"
      }
    },
    {
      "cell_type": "code",
      "source": [
        "print(len(vetor_numpy)) "
      ],
      "metadata": {
        "colab": {
          "base_uri": "https://localhost:8080/"
        },
        "id": "_oICk9A40h0Q",
        "outputId": "b786266a-52f3-4075-f507-e324deddba2d"
      },
      "execution_count": null,
      "outputs": [
        {
          "output_type": "stream",
          "name": "stdout",
          "text": [
            "10\n"
          ]
        }
      ]
    },
    {
      "cell_type": "markdown",
      "source": [
        "Quantas dimensões ndim o vetor possui?\n"
      ],
      "metadata": {
        "id": "ncRRIB6q0p4j"
      }
    },
    {
      "cell_type": "code",
      "source": [
        "print(vetor_numpy.ndim)\n"
      ],
      "metadata": {
        "colab": {
          "base_uri": "https://localhost:8080/"
        },
        "id": "Vn8D7mC70qUo",
        "outputId": "4398a93c-ec7f-4e6a-c3ed-f3dbb362a5b7"
      },
      "execution_count": null,
      "outputs": [
        {
          "output_type": "stream",
          "name": "stdout",
          "text": [
            "1\n"
          ]
        }
      ]
    },
    {
      "cell_type": "markdown",
      "source": [
        "O que a função shape retorna?\n"
      ],
      "metadata": {
        "id": "7ZOwLLP60-L7"
      }
    },
    {
      "cell_type": "code",
      "source": [
        "print(vetor_numpy.shape) "
      ],
      "metadata": {
        "colab": {
          "base_uri": "https://localhost:8080/"
        },
        "id": "RxKW8BN40-6i",
        "outputId": "3654f297-1b20-45af-f05e-ed620c7abb0e"
      },
      "execution_count": null,
      "outputs": [
        {
          "output_type": "stream",
          "name": "stdout",
          "text": [
            "(10,)\n"
          ]
        }
      ]
    },
    {
      "cell_type": "markdown",
      "source": [
        "Crie a variável pares e extraia todos os números pares do vetor para ela:\n"
      ],
      "metadata": {
        "id": "vzVwxlS20_Gi"
      }
    },
    {
      "cell_type": "code",
      "source": [
        "vetpar = vet[vet % 2 == 0] \n",
        "vetpar\n"
      ],
      "metadata": {
        "colab": {
          "base_uri": "https://localhost:8080/"
        },
        "id": "rvqwLl0W0_Ru",
        "outputId": "76784e67-7d14-4a73-f303-7bbe36179edc"
      },
      "execution_count": null,
      "outputs": [
        {
          "output_type": "execute_result",
          "data": {
            "text/plain": [
              "array([0, 2, 4, 6, 8])"
            ]
          },
          "metadata": {},
          "execution_count": 89
        }
      ]
    },
    {
      "cell_type": "markdown",
      "source": [
        "Substitua todos os elementos ímpares do vetor por -1, em seguida, ordene os resultados:\n"
      ],
      "metadata": {
        "id": "0EyicdZa0_cZ"
      }
    },
    {
      "cell_type": "code",
      "source": [
        "impar = vet[vet % 2 != 0] \n",
        "\n",
        "impar\n",
        "\n"
      ],
      "metadata": {
        "colab": {
          "base_uri": "https://localhost:8080/"
        },
        "id": "NjtvSF5w0_nm",
        "outputId": "087cfd47-f5f1-49b8-fb9d-c31ea6854419"
      },
      "execution_count": null,
      "outputs": [
        {
          "output_type": "execute_result",
          "data": {
            "text/plain": [
              "array([-1, -1, -1, -1, -1])"
            ]
          },
          "metadata": {},
          "execution_count": 92
        }
      ]
    },
    {
      "cell_type": "markdown",
      "source": [
        "Converta o vetor unidimensional (1D) abaixo para uma matriz (2D) com 4 linhas. Dica: reshape.\n"
      ],
      "metadata": {
        "id": "KWPCSDO80_yS"
      }
    },
    {
      "cell_type": "code",
      "source": [
        "vetor1d = np.arange(12)\n",
        "newvetor = vetor1d.reshape(4,3)\n",
        "\n",
        "newvetor\n"
      ],
      "metadata": {
        "colab": {
          "base_uri": "https://localhost:8080/"
        },
        "id": "zPU4wN9X0_89",
        "outputId": "9cf8590a-bcba-41e3-fa7d-de39b9327d5b"
      },
      "execution_count": null,
      "outputs": [
        {
          "output_type": "execute_result",
          "data": {
            "text/plain": [
              "array([[ 0,  1,  2],\n",
              "       [ 3,  4,  5],\n",
              "       [ 6,  7,  8],\n",
              "       [ 9, 10, 11]])"
            ]
          },
          "metadata": {},
          "execution_count": 110
        }
      ]
    },
    {
      "cell_type": "markdown",
      "source": [
        "Obtenha os itens em comum, ou seja, a intersecção dos vetores a e b abaixo:\n",
        "Saída: [2, 4, 6]"
      ],
      "metadata": {
        "id": "sac_Ugoo1AIY"
      }
    },
    {
      "cell_type": "code",
      "source": [
        "a = np.array([1, 2, 3, 4, 5, 6])\n",
        "b = np.array([2, 4, 6, 8, 10])\n",
        "\n",
        "print(np.intersect1d(a, b))"
      ],
      "metadata": {
        "colab": {
          "base_uri": "https://localhost:8080/"
        },
        "id": "D4qhrwYT1AST",
        "outputId": "fd508366-6177-4856-e609-a410eb70b168"
      },
      "execution_count": null,
      "outputs": [
        {
          "output_type": "stream",
          "name": "stdout",
          "text": [
            "[2 4 6]\n"
          ]
        }
      ]
    },
    {
      "cell_type": "markdown",
      "source": [
        "Retorne os valores únicos do vetor a que não estão no vetor b (diferença)."
      ],
      "metadata": {
        "id": "1zgjY-9MPhO8"
      }
    },
    {
      "cell_type": "code",
      "source": [
        "a = np.array([1, 2, 3, 4])\n",
        "b = np.array([2, 4, 6, 8, 10])\n",
        "\n",
        "print(np.setdiff1d(a,b))"
      ],
      "metadata": {
        "colab": {
          "base_uri": "https://localhost:8080/"
        },
        "id": "25AuxgdnPhy0",
        "outputId": "f254e3c2-6a46-4749-b87a-97d9fa1e4b02"
      },
      "execution_count": null,
      "outputs": [
        {
          "output_type": "stream",
          "name": "stdout",
          "text": [
            "[1 3]\n"
          ]
        }
      ]
    },
    {
      "cell_type": "markdown",
      "source": [
        "Retorne um vetor com as posições (índices) onde os elementos do vetor a sãos iguais aos elementos do vetor b. Dica: where.\n"
      ],
      "metadata": {
        "id": "19K8M_4PP7u1"
      }
    },
    {
      "cell_type": "code",
      "source": [
        "a = np.array([1, 2, 3, 4, 5, 6])\n",
        "b = np.array([2, 4, 3, 4, 10, 6])\n",
        "\n",
        "indices = np.where(a == b)\n",
        "indices"
      ],
      "metadata": {
        "colab": {
          "base_uri": "https://localhost:8080/"
        },
        "id": "y6foEBl_P8Oq",
        "outputId": "486127ab-70fc-4b2b-9184-b56ce3333fb2"
      },
      "execution_count": null,
      "outputs": [
        {
          "output_type": "execute_result",
          "data": {
            "text/plain": [
              "(array([2, 3, 5]),)"
            ]
          },
          "metadata": {},
          "execution_count": 114
        }
      ]
    },
    {
      "cell_type": "markdown",
      "source": [
        "Obtenha todos os itens entre 5 e 15 do vetor a = [0, 1, 2, 3, . . ., 20]."
      ],
      "metadata": {
        "id": "eET-x59UQZYT"
      }
    },
    {
      "cell_type": "code",
      "source": [
        "a = np.arange(21)\n",
        "\n",
        "np.where(np.logical_and(a>=6, a<=10))"
      ],
      "metadata": {
        "colab": {
          "base_uri": "https://localhost:8080/"
        },
        "id": "Ds6pliylQaId",
        "outputId": "edf94ae9-830b-45e4-aa94-7b2f9dc2f158"
      },
      "execution_count": null,
      "outputs": [
        {
          "output_type": "execute_result",
          "data": {
            "text/plain": [
              "(array([ 6,  7,  8,  9, 10]),)"
            ]
          },
          "metadata": {},
          "execution_count": 119
        }
      ]
    },
    {
      "cell_type": "markdown",
      "source": [
        "Crie e imprima um vetor com 5 números aleatórios, sem seguida, obtenha os valores máximo e mínimo dele e mostre na tela.\n"
      ],
      "metadata": {
        "id": "64jO6KqMSO8u"
      }
    },
    {
      "cell_type": "code",
      "source": [
        "rand_nums = np.random.randint(100, size=(5))\n",
        "min_num = np.min(rand_nums)\n",
        "max_num = np.max(rand_nums)\n",
        "print('O menor número é:', min_num)\n",
        "print('O maior número é:', max_num)"
      ],
      "metadata": {
        "colab": {
          "base_uri": "https://localhost:8080/"
        },
        "id": "iLc58otXSPaL",
        "outputId": "35e914a1-6fe6-4cdf-98ca-5beb76516cbe"
      },
      "execution_count": null,
      "outputs": [
        {
          "output_type": "stream",
          "name": "stdout",
          "text": [
            "O menor número é: 8\n",
            "O maior número é: 45\n"
          ]
        }
      ]
    },
    {
      "cell_type": "markdown",
      "source": [
        "Crie a seguinte matriz:\n",
        "7\t8\t9\n",
        "4\t5\t6\n",
        "1\t2\t3\n"
      ],
      "metadata": {
        "id": "SgNqA_ULU0EW"
      }
    },
    {
      "cell_type": "code",
      "source": [
        "matriz = np.array([[7,8,9],[4,5,6], [1,2,3]])\n",
        "matriz"
      ],
      "metadata": {
        "colab": {
          "base_uri": "https://localhost:8080/"
        },
        "id": "7mN_TxBYU03n",
        "outputId": "f72372d7-bc90-46e0-9412-a17d0c2d57ad"
      },
      "execution_count": null,
      "outputs": [
        {
          "output_type": "execute_result",
          "data": {
            "text/plain": [
              "array([[7, 8, 9],\n",
              "       [4, 5, 6],\n",
              "       [1, 2, 3]])"
            ]
          },
          "metadata": {},
          "execution_count": 131
        }
      ]
    },
    {
      "cell_type": "markdown",
      "source": [
        "Troque de lugar a primeira coluna com a útltima coluna da matriz."
      ],
      "metadata": {
        "id": "GbKfq6m8U-vK"
      }
    },
    {
      "cell_type": "code",
      "source": [
        "newMatriz = matriz.copy()\n",
        "matriz[:,0] = newMatriz[:,-1]\n",
        "matriz[:,-1] = newMatriz[:,0]\n",
        "\n",
        "matriz"
      ],
      "metadata": {
        "colab": {
          "base_uri": "https://localhost:8080/"
        },
        "id": "to_nuhIHU_FQ",
        "outputId": "aded939a-084b-4b79-f699-04e8514920a2"
      },
      "execution_count": null,
      "outputs": [
        {
          "output_type": "execute_result",
          "data": {
            "text/plain": [
              "array([[9, 8, 7],\n",
              "       [6, 5, 4],\n",
              "       [3, 2, 1]])"
            ]
          },
          "metadata": {},
          "execution_count": 132
        }
      ]
    },
    {
      "cell_type": "markdown",
      "source": [
        "Troque de lugar a primeira linha com a útltima linha da matriz."
      ],
      "metadata": {
        "id": "1yFQfRvLVIxI"
      }
    },
    {
      "cell_type": "code",
      "source": [
        "newMatriz = matriz.copy()\n",
        "matriz[0,:] = newMatriz[-1,:]\n",
        "matriz[-1,:] = newMatriz[0,:]\n",
        "\n",
        "matriz"
      ],
      "metadata": {
        "colab": {
          "base_uri": "https://localhost:8080/"
        },
        "id": "9AbsUIlZVMQp",
        "outputId": "1cab469f-9432-4a71-b20c-cebf06073cba"
      },
      "execution_count": null,
      "outputs": [
        {
          "output_type": "execute_result",
          "data": {
            "text/plain": [
              "array([[3, 2, 1],\n",
              "       [6, 5, 4],\n",
              "       [9, 8, 7]])"
            ]
          },
          "metadata": {},
          "execution_count": 133
        }
      ]
    },
    {
      "cell_type": "markdown",
      "source": [
        "Crie uma matriz 7 × 5 preenchida com números decimais aleatórios entre 1 e 5."
      ],
      "metadata": {
        "id": "cL7C-1zZVads"
      }
    },
    {
      "cell_type": "code",
      "source": [
        "values = []\n",
        "for i in range(7):\n",
        "    values.append(np.random.uniform(0.0, 5.0, (5,)))\n",
        "\n",
        "randomMatriz = np.array(values)\n",
        "randomMatriz"
      ],
      "metadata": {
        "colab": {
          "base_uri": "https://localhost:8080/"
        },
        "id": "QS6hux5eVcxl",
        "outputId": "0173e04a-338a-470b-8f9e-077880db9dc3"
      },
      "execution_count": null,
      "outputs": [
        {
          "output_type": "execute_result",
          "data": {
            "text/plain": [
              "array([[2.54874462, 2.19437237, 2.81013257, 2.0625865 , 2.72588849],\n",
              "       [1.31823135, 3.64372196, 3.80828755, 2.03690099, 3.76195679],\n",
              "       [3.28474138, 3.51588504, 0.14340572, 2.43994078, 1.56568355],\n",
              "       [1.70102011, 0.69569546, 0.70885133, 0.76945006, 4.55520845],\n",
              "       [0.85043584, 0.82463816, 4.81874197, 1.60215731, 4.71337714],\n",
              "       [4.1143938 , 3.42035233, 2.57577223, 0.94369539, 0.94554869],\n",
              "       [3.37859342, 3.99460084, 2.72724306, 4.59239107, 1.14280044]])"
            ]
          },
          "metadata": {},
          "execution_count": 136
        }
      ]
    },
    {
      "cell_type": "markdown",
      "source": [
        "Qual é o comprimento len da matriz?"
      ],
      "metadata": {
        "id": "V_RGJF7CXh-Z"
      }
    },
    {
      "cell_type": "code",
      "source": [
        "len(randomMatriz)"
      ],
      "metadata": {
        "colab": {
          "base_uri": "https://localhost:8080/"
        },
        "id": "t6QKDtwSXibO",
        "outputId": "8ef916a9-47d8-49f9-bff0-53c2ca2dde56"
      },
      "execution_count": null,
      "outputs": [
        {
          "output_type": "execute_result",
          "data": {
            "text/plain": [
              "7"
            ]
          },
          "metadata": {},
          "execution_count": 137
        }
      ]
    },
    {
      "cell_type": "markdown",
      "source": [
        "Quantas dimensões ndim a matriz possui?"
      ],
      "metadata": {
        "id": "x2U33CBoXmky"
      }
    },
    {
      "cell_type": "code",
      "source": [
        "np.ndim(randomMatriz)"
      ],
      "metadata": {
        "colab": {
          "base_uri": "https://localhost:8080/"
        },
        "id": "8HismjLYXoiS",
        "outputId": "e43015bb-f23d-47d6-87dd-e30bc3fb79ab"
      },
      "execution_count": null,
      "outputs": [
        {
          "output_type": "execute_result",
          "data": {
            "text/plain": [
              "2"
            ]
          },
          "metadata": {},
          "execution_count": 138
        }
      ]
    },
    {
      "cell_type": "markdown",
      "source": [
        "O que a função shape retorna?"
      ],
      "metadata": {
        "id": "u8ELrARyXq-h"
      }
    },
    {
      "cell_type": "code",
      "source": [
        "np.shape(randomMatriz)"
      ],
      "metadata": {
        "id": "ZTBzUkrdXuUy",
        "outputId": "24d29d23-e2ff-473e-ebce-06959db40928",
        "colab": {
          "base_uri": "https://localhost:8080/"
        }
      },
      "execution_count": null,
      "outputs": [
        {
          "output_type": "execute_result",
          "data": {
            "text/plain": [
              "(7, 5)"
            ]
          },
          "metadata": {},
          "execution_count": 139
        }
      ]
    }
  ]
}